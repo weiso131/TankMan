{
 "cells": [
  {
   "cell_type": "code",
   "execution_count": 1,
   "metadata": {},
   "outputs": [
    {
     "name": "stdout",
     "output_type": "stream",
     "text": [
      "pygame 2.5.2 (SDL 2.28.3, Python 3.9.16)\n",
      "Hello from the pygame community. https://www.pygame.org/contribute.html\n"
     ]
    }
   ],
   "source": [
    "from torch import nn\n",
    "import torch.nn.functional as F\n",
    "import torch\n",
    "from fight_env import fight_env\n",
    "from fight_train_func import rewardFunction, normalizeData\n",
    "import random\n",
    "from fightAlgorithm import testDataForAgent\n",
    "from PPO import PPO\n",
    "\n",
    "\n",
    "\n",
    "class PolicyNetwork(nn.Module):\n",
    "    def __init__(self, state_size, action_size):\n",
    "        super(PolicyNetwork, self).__init__()\n",
    "        self.fc1 = nn.Linear(state_size, 64)\n",
    "        self.fc2 = nn.Linear(64, 32)\n",
    "        self.fc3 = nn.Linear(32, action_size)\n",
    "\n",
    "        \n",
    "\n",
    "    def forward(self, x):\n",
    "        \n",
    "        x = F.relu(self.fc1(x))\n",
    "        x = F.relu(self.fc2(x))\n",
    "        logits = self.fc3(x)\n",
    "        return F.log_softmax(logits, dim=-1)\n",
    "\n",
    "        \n",
    "\n",
    "        \n",
    "class ValueNetwork(nn.Module):\n",
    "    def __init__(self, state_size):\n",
    "        super(ValueNetwork, self).__init__()\n",
    "        self.fc1 = nn.Linear(state_size, 64)\n",
    "        self.fc2 = nn.Linear(64, 32)\n",
    "        self.fc3 = nn.Linear(32, 1)  # 僅一個輸出，表示狀態的價值\n",
    "        \n",
    "    def forward(self, x):\n",
    "        x = F.relu(self.fc1(x))\n",
    "        x = F.relu(self.fc2(x))\n",
    "        x = self.fc3(x)\n",
    "        return x\n",
    "    \n",
    "\n",
    "class MyPPO(PPO):\n",
    "    def __init__(self, env, policyNetwork, valueNetwork):\n",
    "        super().__init__(policyNetwork, valueNetwork)\n",
    "        self.env = env\n",
    "\n",
    "    def show(self):\n",
    "        device = torch.device(\"cpu\")\n",
    "        self.PolicyNetwork.to(device, dtype=torch.float32)\n",
    "        self.ValueNetwork.to(device, dtype=torch.float32)\n",
    "        data = self.env.reset()\n",
    "        while (True):    \n",
    "            self.env.render()                \n",
    "            updateData = {}\n",
    "            \n",
    "            for j in range(1, 7):\n",
    "                playerID = str(j) + \"P\"\n",
    "\n",
    "                state, _, _ = data[playerID]\n",
    "                action = self.getAction(normalizeData(state))    \n",
    "                updateData[playerID] = [self.env.actionSpace[action]]\n",
    "            data = self.env.update(updateData)  \n",
    "\n",
    "\n",
    "            if (not self.env.not_done()):\n",
    "                break\n",
    "\n",
    "    def learn(self, timeStep=10000, dataNum = 4096, lr=0.003, episode=0.2, epoch=10, batchSize=256):\n",
    "        print(\"start learning\")\n",
    "        for i in range(timeStep):\n",
    "            playtime_count = 0\n",
    "            \n",
    "            \n",
    "            \n",
    "            while (len(self.ExperienceHistory['oldstate']) < dataNum):\n",
    "                data = self.env.reset()\n",
    "                \n",
    "                agentRewards = [0, 0, 0, 0, 0, 0, 0]\n",
    "                while (True):                \n",
    "                    updateData = {}\n",
    "                    oldStates = {}\n",
    "                    actions = {}\n",
    "                    end_game = not self.env.not_done()\n",
    "                    for j in range(1, 7):\n",
    "                        playerID = str(j) + \"P\"\n",
    "\n",
    "                            \n",
    "                        \n",
    "                        state, _, _ = data[playerID]\n",
    "                        oldStates[playerID] = state\n",
    "                        if (j % 3 == 1):\n",
    "                            action = self.env.actionID[testDataForAgent(state)]\n",
    "                        else:\n",
    "                            action = self.getAction(normalizeData(state))\n",
    "                       \n",
    "                        \n",
    "                        updateData[playerID] = [self.env.actionSpace[action]]\n",
    "                        actions[playerID] = action\n",
    "                    data = self.env.update(updateData)  \n",
    "\n",
    "                    for j in range(1, 7):\n",
    "                        playerID = str(j) + \"P\"\n",
    "                        old_state = oldStates[playerID]\n",
    "                        new_state, liveLoss, scoreUp = data[playerID]\n",
    "                        action = actions[playerID]\n",
    "                        reward = rewardFunction(old_state, self.env.actionSpace[action], scoreUp, liveLoss)\n",
    "                        \n",
    "                        done = int(end_game)\n",
    "                        \n",
    "                        self.ExperienceHistory['oldstate'].append(normalizeData(old_state))\n",
    "                        self.ExperienceHistory['state'].append(normalizeData(new_state))\n",
    "                        self.ExperienceHistory['action'].append(action)\n",
    "                        self.ExperienceHistory['reward'].append(reward)\n",
    "                        self.ExperienceHistory['done'].append(done)\n",
    "\n",
    "                        agentRewards[j] += reward\n",
    "\n",
    "                                \n",
    "\n",
    "                    if (end_game):\n",
    "                        if (i % 10 == 0):\n",
    "                            print(f\"time step:{i + 1}\", end=\" \")\n",
    "                            for j in range(1, 7):\n",
    "                                \n",
    "                                print(f\"player{j} reward: {agentRewards[j]}\", end=\",\")\n",
    "                            print()\n",
    "                        playtime_count += 1\n",
    "                        break\n",
    "            self.train(epochs=epoch, lr=lr, episode=episode, batch_size=batchSize)\n",
    "\n",
    "\n",
    "\n"
   ]
  },
  {
   "cell_type": "code",
   "execution_count": 2,
   "metadata": {},
   "outputs": [],
   "source": [
    "env = fight_env(FPS=300)\n",
    "policyNetwork = PolicyNetwork(5, 7)\n",
    "valueNetwork = ValueNetwork(5)\n",
    "agent = MyPPO(env, policyNetwork=policyNetwork, valueNetwork=valueNetwork)\n"
   ]
  },
  {
   "cell_type": "code",
   "execution_count": 3,
   "metadata": {},
   "outputs": [
    {
     "name": "stdout",
     "output_type": "stream",
     "text": [
      "start learning\n",
      "time step:1 player1 reward: 8.66999999999986,player2 reward: -6.7699999999999,player3 reward: -6.969999999999896,player4 reward: 8.069999999999872,player5 reward: -6.969999999999896,player6 reward: -6.269999999999911,\n"
     ]
    },
    {
     "name": "stderr",
     "output_type": "stream",
     "text": [
      "c:\\Users\\weiso131\\Desktop\\gameAI\\weiso_tank_env\\PPO.py:146: UserWarning: Anomaly Detection has been enabled. This mode will increase the runtime and should only be enabled for debugging.\n",
      "  with torch.autograd.detect_anomaly():\n"
     ]
    }
   ],
   "source": [
    "agent.learn(timeStep=10000, lr=0.003, dataNum=4096)"
   ]
  },
  {
   "cell_type": "code",
   "execution_count": 4,
   "metadata": {},
   "outputs": [],
   "source": [
    "import pygame\n",
    "\n",
    "for i in range(10):\n",
    "    agent.show()\n",
    "    pygame.quit()"
   ]
  },
  {
   "cell_type": "code",
   "execution_count": null,
   "metadata": {},
   "outputs": [],
   "source": []
  }
 ],
 "metadata": {
  "kernelspec": {
   "display_name": "paia",
   "language": "python",
   "name": "python3"
  },
  "language_info": {
   "codemirror_mode": {
    "name": "ipython",
    "version": 3
   },
   "file_extension": ".py",
   "mimetype": "text/x-python",
   "name": "python",
   "nbconvert_exporter": "python",
   "pygments_lexer": "ipython3",
   "version": "3.9.16"
  }
 },
 "nbformat": 4,
 "nbformat_minor": 2
}
