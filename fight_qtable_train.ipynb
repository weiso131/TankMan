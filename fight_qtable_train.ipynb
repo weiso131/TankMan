{
 "cells": [
  {
   "cell_type": "code",
   "execution_count": 1,
   "metadata": {},
   "outputs": [
    {
     "name": "stdout",
     "output_type": "stream",
     "text": [
      "pygame 2.5.2 (SDL 2.28.3, Python 3.9.16)\n",
      "Hello from the pygame community. https://www.pygame.org/contribute.html\n"
     ]
    }
   ],
   "source": [
    "from Q_learing import Q_learning\n",
    "from fight_env import fight_env\n",
    "from fight_train_func import rewardFunction, getQTableData\n",
    "import random\n",
    "from fightAlgorithm import testQtableData\n",
    "import pygame\n"
   ]
  },
  {
   "cell_type": "code",
   "execution_count": 2,
   "metadata": {},
   "outputs": [],
   "source": [
    "import math\n",
    "class QLearningTraining:\n",
    "    def __init__(self, agent, env,\n",
    "                 initial_lr=1.0, min_lr=0.01, gamma=0.99):\n",
    "        self.agent = agent\n",
    "        self.env = env\n",
    "        self.initial_lr = initial_lr\n",
    "        self.min_lr = min_lr\n",
    "        self.gamma = gamma\n",
    "        self.rewards_per_episode = []\n",
    "\n",
    "        \n",
    "\n",
    "        self.reward_history = []\n",
    "\n",
    "    def train(self, episodes, useTeacher=False, lrDecrease=500, epsDecrease=500, minLr=0.01, minEps=0.01):\n",
    "        Lambda_lr = lambda i: max(minLr, min(1, 1.0 - math.log10((i+1)/lrDecrease)))\n",
    "        Lambda_epsilon = lambda i: max(minEps, min(0.99, 1.0 - math.log10((i+1)/epsDecrease)))\n",
    "        for episode in range(episodes):\n",
    "            lr = Lambda_lr(episode) * self.initial_lr\n",
    "            epsilon = Lambda_epsilon(episode)\n",
    "\n",
    "\n",
    "            data = self.env.reset()\n",
    "            \n",
    "            agentRewards = [0, 0, 0, 0, 0, 0, 0]\n",
    "\n",
    "            while (True):      \n",
    "                #self.env.render()          \n",
    "                updateData = {}\n",
    "                oldStates = {}\n",
    "                actions = {}\n",
    "                end_game = not self.env.not_done()\n",
    "                \n",
    "                if (end_game):\n",
    "                    if (episode % 10 == 0):\n",
    "                        print(f\"time step:{episode + 1}\", end=\" \")\n",
    "                        for j in range(1, 7):\n",
    "                            \n",
    "                            print(f\"player{j} reward: {agentRewards[j]}\", end=\",\")\n",
    "                        print()\n",
    "                    break\n",
    "\n",
    "                for j in range(1, 7):\n",
    "                    playerID = str(j) + \"P\"\n",
    "                    \n",
    "                        \n",
    "                    \n",
    "                    state, _, _ = data[playerID]\n",
    "                    oldStates[playerID] = state\n",
    "\n",
    "                    action = self.agent.step(getQTableData(state), epsilon)\n",
    "                    actions[playerID] = action\n",
    "\n",
    "                    updateData[playerID] = [action]\n",
    "\n",
    "                data = self.env.update(updateData)\n",
    "\n",
    "                for j in range(1, 7):\n",
    "                    if (self.env.lives[j] == 0):\n",
    "                        continue\n",
    "                    \n",
    "                    playerID = str(j) + \"P\"\n",
    "                    old_state = oldStates[playerID]\n",
    "                    new_state, liveLoss, scoreUp = data[playerID]\n",
    "                    action = actions[playerID]\n",
    "                    reward = rewardFunction(old_state, action, scoreUp, liveLoss)\n",
    "                    \n",
    "                    self.agent.update(getQTableData(old_state), getQTableData(new_state),\\\n",
    "                                       action, reward, lr, self.gamma)\n",
    "                    \n",
    "                    \n",
    "\n",
    "                    agentRewards[j] += reward\n",
    "    def show(self):\n",
    "        \n",
    "        data = self.env.reset()\n",
    "        while (True):    \n",
    "            self.env.render()                \n",
    "            updateData = {}\n",
    "            \n",
    "            for j in range(1, 7):\n",
    "                playerID = str(j) + \"P\"\n",
    "\n",
    "                state, _, _ = data[playerID]\n",
    "                action = self.agent.step(getQTableData(state))    \n",
    "                updateData[playerID] = [action]\n",
    "            data = self.env.update(updateData)  \n",
    "\n",
    "\n",
    "            if (not self.env.not_done()):\n",
    "                break\n"
   ]
  },
  {
   "cell_type": "code",
   "execution_count": 3,
   "metadata": {},
   "outputs": [
    {
     "name": "stdout",
     "output_type": "stream",
     "text": [
      "(8, 8, 8, 3, 2) ['AIM_RIGHT', 'AIM_LEFT', 'SHOOT', 'FORWARD', 'BACKWARD', 'TURN_RIGHT', 'TURN_LEFT', 'NONE']\n"
     ]
    }
   ],
   "source": [
    "env = fight_env()\n",
    "obsercationSize = (8, 8, 8, 2, 2, 2)\n",
    "actionSpace = env.actionSpace\n",
    "agent = Q_learning(obsercationSize, actionSpace)\n",
    "\n",
    "print(obsercationSize, actionSpace)\n",
    "\n",
    "ql = QLearningTraining(agent, env)"
   ]
  },
  {
   "cell_type": "code",
   "execution_count": 4,
   "metadata": {},
   "outputs": [
    {
     "name": "stdout",
     "output_type": "stream",
     "text": [
      "time step:1 player1 reward: -7.159999999999892,player2 reward: -7.519999999999884,player3 reward: -7.3599999999998875,player4 reward: -7.459999999999885,player5 reward: -7.179999999999891,player6 reward: -7.099999999999893,\n"
     ]
    }
   ],
   "source": [
    "ql.train(10000)\n"
   ]
  },
  {
   "cell_type": "code",
   "execution_count": 5,
   "metadata": {},
   "outputs": [],
   "source": [
    "\n",
    "\n",
    "ql.show()\n",
    "pygame.quit()\n",
    "ql.agent.save(\"tank3.pickle\")"
   ]
  },
  {
   "cell_type": "code",
   "execution_count": 4,
   "metadata": {},
   "outputs": [],
   "source": [
    "tank0 = Q_learning(obsercationSize, actionSpace)\n",
    "tank0.load(\"tank2.pickle\")\n",
    "showEnv = fight_env(trainMode=\"plain.tmx\")\n",
    "show = QLearningTraining(tank0, showEnv)"
   ]
  },
  {
   "cell_type": "code",
   "execution_count": 6,
   "metadata": {},
   "outputs": [],
   "source": [
    "for i in range(10):\n",
    "    show.show()\n",
    "pygame.quit()"
   ]
  },
  {
   "cell_type": "code",
   "execution_count": null,
   "metadata": {},
   "outputs": [],
   "source": []
  }
 ],
 "metadata": {
  "kernelspec": {
   "display_name": "AI",
   "language": "python",
   "name": "python3"
  },
  "language_info": {
   "codemirror_mode": {
    "name": "ipython",
    "version": 3
   },
   "file_extension": ".py",
   "mimetype": "text/x-python",
   "name": "python",
   "nbconvert_exporter": "python",
   "pygments_lexer": "ipython3",
   "version": "3.9.16"
  }
 },
 "nbformat": 4,
 "nbformat_minor": 2
}
